{
 "cells": [
  {
   "cell_type": "code",
   "execution_count": 33,
   "metadata": {},
   "outputs": [],
   "source": [
    "import utm\n",
    "import numpy\n",
    "from random import randrange, uniform"
   ]
  },
  {
   "cell_type": "code",
   "execution_count": 7,
   "metadata": {},
   "outputs": [],
   "source": [
    "def global_to_local(global_position, global_home):\n",
    "    \n",
    "    (east_home, north_home, _, _) = utm.from_latlon(global_home[1], global_home[0])\n",
    "    print(east_home, north_home)\n",
    "    (east, north,_,_) = utm.from_latlon(global_position[1], global_position[0])\n",
    "                                          \n",
    "    local_position = numpy.array([north - north_home, east - east_home, -(global_position[2] - global_home[2])])\n",
    "    \n",
    "    return local_position"
   ]
  },
  {
   "cell_type": "code",
   "execution_count": 8,
   "metadata": {},
   "outputs": [],
   "source": [
    "def local_to_global(local_position, global_home):\n",
    "    (east_home, north_home, zone_number, zone_letter) = utm.from_latlon(\n",
    "                                                        global_home[1], global_home[0])\n",
    "    \n",
    "    (lat, lon) = utm.to_latlon(east_home + local_position[1],\n",
    "                               north_home + local_position[0], zone_number,\n",
    "                               zone_letter)\n",
    "                               \n",
    "    global_position = numpy.array([lon, lat, -(local_position[2]-global_home[2])])\n",
    "    \n",
    "    return global_position"
   ]
  },
  {
   "cell_type": "code",
   "execution_count": 9,
   "metadata": {},
   "outputs": [],
   "source": [
    "  goal_ne = (750, 370)"
   ]
  },
  {
   "cell_type": "code",
   "execution_count": 34,
   "metadata": {},
   "outputs": [
    {
     "data": {
      "text/plain": [
       "2"
      ]
     },
     "execution_count": 34,
     "metadata": {},
     "output_type": "execute_result"
    }
   ],
   "source": [
    "grid = numpy.array([[1, 2, 3],[4,5,6]]) \n",
    "len(grid)"
   ]
  },
  {
   "cell_type": "code",
   "execution_count": 96,
   "metadata": {},
   "outputs": [],
   "source": [
    "found = False"
   ]
  },
  {
   "cell_type": "code",
   "execution_count": 97,
   "metadata": {},
   "outputs": [
    {
     "name": "stdout",
     "output_type": "stream",
     "text": [
      "(1, 1)\n",
      "(0, 0)\n"
     ]
    }
   ],
   "source": [
    "while not found:\n",
    "    test=(randrange(0,len(grid[:,1]+1)),randrange(0,len(grid[1,:]+1)))\n",
    "    if grid[test] == 1:\n",
    "        print(test)\n",
    "        found = True\n",
    "    else:\n",
    "        print(test)"
   ]
  },
  {
   "cell_type": "code",
   "execution_count": 81,
   "metadata": {},
   "outputs": [
    {
     "data": {
      "text/plain": [
       "(1, 2)"
      ]
     },
     "execution_count": 81,
     "metadata": {},
     "output_type": "execute_result"
    }
   ],
   "source": [
    "test"
   ]
  },
  {
   "cell_type": "code",
   "execution_count": 100,
   "metadata": {},
   "outputs": [
    {
     "data": {
      "text/plain": [
       "3"
      ]
     },
     "execution_count": 100,
     "metadata": {},
     "output_type": "execute_result"
    }
   ],
   "source": [
    "len(grid[1,:])"
   ]
  },
  {
   "cell_type": "code",
   "execution_count": null,
   "metadata": {},
   "outputs": [],
   "source": []
  }
 ],
 "metadata": {
  "kernelspec": {
   "display_name": "Python 3",
   "language": "python",
   "name": "python3"
  },
  "language_info": {
   "codemirror_mode": {
    "name": "ipython",
    "version": 3
   },
   "file_extension": ".py",
   "mimetype": "text/x-python",
   "name": "python",
   "nbconvert_exporter": "python",
   "pygments_lexer": "ipython3",
   "version": "3.7.1"
  }
 },
 "nbformat": 4,
 "nbformat_minor": 2
}
